{
 "cells": [
  {
   "cell_type": "markdown",
   "id": "67f1d4c5",
   "metadata": {},
   "source": [
    "# Index\n",
    "\n",
    "This is the index of notebooks for my portions of the ESAC statistics workshop, October 27-31 at the ESAC outside Madrid, Spain. The source of this material can be found at http://github.com/jakevdp/ESAC-stats-2014.\n",
    "\n",
    "You can see the workshop details & agenda here: http://www.cosmos.esa.int/web/esac-science-faculty/esac-statistics-workshop-2014."
   ]
  },
  {
   "cell_type": "markdown",
   "id": "71a2220c",
   "metadata": {},
   "source": [
    "---\n",
    "\n",
    "## Monday\n",
    "\n",
    "- Morning Session:\n",
    "  + [Model Fitting I (frequentist)](01.1-Frequentist-Model-Fitting.ipynb)\n",
    "  + [Breakout](01.2-Model-Fitting-Breakout.ipynb) (Solution notebook [here](Solution-01.2.ipynb))\n",
    "  \n",
    "- Afternoon Session:\n",
    "  + [Model Fitting II (Bayesian)](02.1-Bayesian-Model-Fitting.ipynb)\n",
    "  + [Breakout](02.2-Afternoon-Breakout.ipynb) (Solution notebook [here](Solution-02.2.ipynb))"
   ]
  },
  {
   "cell_type": "markdown",
   "id": "d490aa6e",
   "metadata": {},
   "source": [
    "---\n",
    "\n",
    "## Thursday\n",
    "- Afternoon Session:\n",
    "  + [Introduction to Machine Learning with Scikit-Learn](03.1-Scikit-Learn-Intro.ipynb)\n",
    "  + [Breakout](03.2-Machine-Learning-Breakout.ipynb) (Solutions notebook [here](Solution-03.2.ipynb))"
   ]
  },
  {
   "cell_type": "markdown",
   "id": "f0034f86",
   "metadata": {},
   "source": [
    "---\n",
    "## Friday\n",
    "- Morning Session:\n",
    "  + [Classification: SVMs in-depth](04.1-Classification-SVMs.ipynb)\n",
    "  + [Regression: Trees & Forests in-depth](04.2-Regression-Forests.ipynb)\n",
    "  + [Model Validation & Testing](04.3-Validation.ipynb)\n",
    "  + [Breakout](04.4-Validation-Breakout.ipynb) (Solutions notebook [here](Solution-04.4.ipynb))\n",
    "  \n",
    "- Afternoon Session:\n",
    "  + [Dimensionality Reduction: PCA in-depth](05.1-Dimensionality-PCA.ipynb)\n",
    "  + [Clustering: KMeans in-depth](05.2-Clustering-KMeans.ipynb)\n",
    "  + [Density Estimation: Gaussian Mixtures in-depth](05.3-Density-GMM.ipynb)\n",
    "  + [Breakout](05.4-Unsupervised-Breakout.ipynb) (There aren't really *solutions* to this per se... it's more of an open-ended exercise. To see some things I've done with this dataset and these tools, you can refer to [our textbook](http://press.princeton.edu/titles/10159.html), particularly [Figures 10.20-21](http://www.astroml.org/book_figures/chapter10/fig_LINEAR_clustering.html), [Figure 10.22](http://www.astroml.org/book_figures/chapter10/fig_LINEAR_GMMBayes.html), and [Figure 10.23](http://www.astroml.org/book_figures/chapter10/fig_LINEAR_SVM.html))"
   ]
  }
 ],
 "metadata": {
  "kernelspec": {
   "display_name": "Python 3 (ipykernel)",
   "language": "python",
   "name": "python3"
  },
  "language_info": {
   "codemirror_mode": {
    "name": "ipython",
    "version": 3
   },
   "file_extension": ".py",
   "mimetype": "text/x-python",
   "name": "python",
   "nbconvert_exporter": "python",
   "pygments_lexer": "ipython3",
   "version": "3.12.3"
  }
 },
 "nbformat": 4,
 "nbformat_minor": 5
}
