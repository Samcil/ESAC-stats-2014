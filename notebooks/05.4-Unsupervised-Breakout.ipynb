{
 "cells": [
  {
   "cell_type": "markdown",
   "id": "fa810a15",
   "metadata": {},
   "source": [
    "# Breakout: data mining the LINEAR catalog\n",
    "\n",
    "In this breakout we'll explore unsupervised clustering and anomaly detection in variable sources from the LINEAR survey.\n",
    "This is similar to part of the analysis done in [this paper](http://adsabs.harvard.edu/abs/2013AJ....146..101P) (see also [this astroML example](http://www.astroml.org/book_figures/chapter10/fig_LINEAR_clustering.html)).\n",
    "\n",
    "We'll start with our standard imports, then take a look at the data:"
   ]
  },
  {
   "cell_type": "code",
   "execution_count": 1,
   "id": "2347bb7b",
   "metadata": {
    "collapsed": false,
    "jupyter": {
     "outputs_hidden": false
    }
   },
   "outputs": [],
   "source": [
    "%matplotlib inline\n",
    "import numpy as np\n",
    "import matplotlib.pyplot as plt\n",
    "from scipy import stats\n",
    "\n",
    "# use seaborn plotting defaults\n",
    "# If this causes an error, you can comment it out.\n",
    "import seaborn as sns\n",
    "sns.set()"
   ]
  },
  {
   "cell_type": "markdown",
   "id": "aa92b355",
   "metadata": {},
   "source": [
    "## Looking at the LINEAR data\n",
    "\n",
    "First we will download the data with astroML. This data is a set of variable sources from the LINEAR survey: we have both photometry (*u-g*, *g-i*, *i-K*, *J-K* colors) and light-curve measurements (*logP*, *amplitude*, and *skew*).\n",
    "\n",
    "### LINEAR catalog\n",
    "We have two views of the data. The first is a catalog derived from the light curves:"
   ]
  },
  {
   "cell_type": "code",
   "execution_count": 2,
   "id": "6163ac1f",
   "metadata": {
    "collapsed": false,
    "jupyter": {
     "outputs_hidden": false
    }
   },
   "outputs": [],
   "source": [
    "from astroML.datasets import fetch_LINEAR_geneva\n",
    "\n",
    "data = fetch_LINEAR_geneva()"
   ]
  },
  {
   "cell_type": "markdown",
   "id": "3a798c6d",
   "metadata": {},
   "source": [
    "The data is in the form of a record array. That is, each item of the data is a compound object containing multiple values:"
   ]
  },
  {
   "cell_type": "code",
   "execution_count": 3,
   "id": "dd382c00",
   "metadata": {
    "collapsed": false,
    "jupyter": {
     "outputs_hidden": false
    }
   },
   "outputs": [
    {
     "name": "stdout",
     "output_type": "stream",
     "text": [
      "(6146,)\n"
     ]
    }
   ],
   "source": [
    "print(data.shape)"
   ]
  },
  {
   "cell_type": "code",
   "execution_count": 4,
   "id": "35f1308d",
   "metadata": {
    "collapsed": false,
    "jupyter": {
     "outputs_hidden": false
    }
   },
   "outputs": [
    {
     "data": {
      "text/plain": [
       "(119.526443, 46.96212, 1.166, 0.369, 1.018, 0.269, -0.2541378, 0.619, -0.313, -0.567, 16.37, 301, 1, 29848)"
      ]
     },
     "execution_count": 4,
     "metadata": {},
     "output_type": "execute_result"
    }
   ],
   "source": [
    "data[0]"
   ]
  },
  {
   "cell_type": "markdown",
   "id": "fd9258fa",
   "metadata": {},
   "source": [
    "To learn what is in the data, we can look at the names from the data type"
   ]
  },
  {
   "cell_type": "code",
   "execution_count": 5,
   "id": "235da21c",
   "metadata": {
    "collapsed": false,
    "jupyter": {
     "outputs_hidden": false
    }
   },
   "outputs": [
    {
     "name": "stdout",
     "output_type": "stream",
     "text": [
      "('ra', 'dec', 'ug', 'gi', 'iK', 'JK', 'logP', 'Ampl', 'skew', 'kurt', 'magMed', 'nObs', 'LCtype', 'LINEARobjectID')\n"
     ]
    }
   ],
   "source": [
    "print(data.dtype.names)"
   ]
  },
  {
   "cell_type": "markdown",
   "id": "96718343",
   "metadata": {},
   "source": [
    "Any individual column of values can be found with the item getter interface.\n",
    "For example, to get an array of all the RA values we can write:"
   ]
  },
  {
   "cell_type": "code",
   "execution_count": 6,
   "id": "13d7e87c",
   "metadata": {
    "collapsed": false,
    "jupyter": {
     "outputs_hidden": false
    }
   },
   "outputs": [
    {
     "data": {
      "text/plain": [
       "array([119.526443, 119.324013, 118.503448, ..., 168.818787, 169.745926,\n",
       "       168.388199])"
      ]
     },
     "execution_count": 6,
     "metadata": {},
     "output_type": "execute_result"
    }
   ],
   "source": [
    "data['ra']"
   ]
  },
  {
   "cell_type": "markdown",
   "id": "6beac715",
   "metadata": {},
   "source": [
    "If we want to do some learning on this data, we need to put it in the form of a matrix.\n",
    "For example, we can choose the following features and construct the matrix this way:"
   ]
  },
  {
   "cell_type": "code",
   "execution_count": 7,
   "id": "ea1160d8",
   "metadata": {
    "collapsed": false,
    "jupyter": {
     "outputs_hidden": false
    }
   },
   "outputs": [
    {
     "data": {
      "text/plain": [
       "(6146, 7)"
      ]
     },
     "execution_count": 7,
     "metadata": {},
     "output_type": "execute_result"
    }
   ],
   "source": [
    "feature_names = ['ug', 'gi', 'iK', 'JK', 'logP', 'Ampl', 'skew']\n",
    "X = np.vstack([data[f] for f in feature_names]).T\n",
    "X.shape"
   ]
  },
  {
   "cell_type": "markdown",
   "id": "0b774596",
   "metadata": {},
   "source": [
    "The object ID is also available, if you'd like to refer back to the raw LINEAR data"
   ]
  },
  {
   "cell_type": "code",
   "execution_count": 8,
   "id": "4fcc296f",
   "metadata": {
    "collapsed": false,
    "jupyter": {
     "outputs_hidden": false
    }
   },
   "outputs": [
    {
     "data": {
      "text/plain": [
       "array([   29848,    32086,    43542, ..., 24215207, 24264418, 24265735])"
      ]
     },
     "execution_count": 8,
     "metadata": {},
     "output_type": "execute_result"
    }
   ],
   "source": [
    "data['LINEARobjectID']"
   ]
  },
  {
   "cell_type": "markdown",
   "id": "f7cd8d2b",
   "metadata": {},
   "source": [
    "### raw LINEAR data\n",
    "\n",
    "The second set available is the raw LINEAR light curve data"
   ]
  },
  {
   "cell_type": "code",
   "execution_count": 9,
   "id": "774e7241",
   "metadata": {
    "collapsed": false,
    "jupyter": {
     "outputs_hidden": false
    }
   },
   "outputs": [],
   "source": [
    "from astroML.datasets import fetch_LINEAR_sample\n",
    "lightcurves = fetch_LINEAR_sample()"
   ]
  },
  {
   "cell_type": "code",
   "execution_count": 10,
   "id": "616f177b",
   "metadata": {
    "collapsed": false,
    "jupyter": {
     "outputs_hidden": false
    }
   },
   "outputs": [
    {
     "name": "stdout",
     "output_type": "stream",
     "text": [
      "<astroML.datasets.LINEAR_sample.LINEARdata object at 0x7f3125fd4770>\n"
     ]
    }
   ],
   "source": [
    "print(lightcurves)"
   ]
  },
  {
   "cell_type": "markdown",
   "id": "871a859c",
   "metadata": {},
   "source": [
    "The result is an object which contains references to all the LINEAR data; if we're interested in any individual light curve, we can access it via the ID:"
   ]
  },
  {
   "cell_type": "code",
   "execution_count": 11,
   "id": "03bded01",
   "metadata": {
    "collapsed": false,
    "jupyter": {
     "outputs_hidden": false
    }
   },
   "outputs": [
    {
     "data": {
      "text/plain": [
       "(196, 3)"
      ]
     },
     "execution_count": 11,
     "metadata": {},
     "output_type": "execute_result"
    }
   ],
   "source": [
    "lc = lightcurves.get_light_curve(10003298)\n",
    "lc.shape"
   ]
  },
  {
   "cell_type": "markdown",
   "id": "b756fdc2",
   "metadata": {},
   "source": [
    "This light curve has 196 observations, and the columns are [time, magnitude, mag_error].\n",
    "One shortcut to access this data is to transpose the array:"
   ]
  },
  {
   "cell_type": "code",
   "execution_count": 12,
   "id": "ecb5cc44",
   "metadata": {
    "collapsed": false,
    "jupyter": {
     "outputs_hidden": false
    }
   },
   "outputs": [],
   "source": [
    "t, y, dy = lc.T"
   ]
  },
  {
   "cell_type": "markdown",
   "id": "11308b0a",
   "metadata": {},
   "source": [
    "We can now plot this data:"
   ]
  },
  {
   "cell_type": "code",
   "execution_count": 13,
   "id": "3fc64845",
   "metadata": {
    "collapsed": false,
    "jupyter": {
     "outputs_hidden": false
    }
   },
   "outputs": [
    {
     "data": {
      "image/png": "[encoded data removed]",
      "text/plain": [
       "<Figure size 640x480 with 1 Axes>"
      ]
     },
     "metadata": {},
     "output_type": "display_data"
    }
   ],
   "source": [
    "plt.errorbar(t, y, dy, fmt='o');"
   ]
  },
  {
   "cell_type": "markdown",
   "id": "58b8fa87",
   "metadata": {},
   "source": [
    "### Linking the Catalogs and Raw Data\n",
    "\n",
    "The catalogs and raw data are linked by the LINEAR ID:"
   ]
  },
  {
   "cell_type": "code",
   "execution_count": 14,
   "id": "e62fbfd8",
   "metadata": {
    "collapsed": false,
    "jupyter": {
     "outputs_hidden": false
    }
   },
   "outputs": [
    {
     "data": {
      "text/plain": [
       "186102"
      ]
     },
     "execution_count": 14,
     "metadata": {},
     "output_type": "execute_result"
    }
   ],
   "source": [
    "lc_index = 20\n",
    "lc_id = data['LINEARobjectID'][lc_index]\n",
    "lc_id"
   ]
  },
  {
   "cell_type": "code",
   "execution_count": 15,
   "id": "f7ff27d0",
   "metadata": {
    "collapsed": false,
    "jupyter": {
     "outputs_hidden": false
    }
   },
   "outputs": [],
   "source": [
    "lc = lightcurves.get_light_curve(int(lc_id))\n",
    "t, y, dy = lc.T"
   ]
  },
  {
   "cell_type": "markdown",
   "id": "464e3af8",
   "metadata": {},
   "source": [
    "Then we can plot a phased lightcurve using the best-fit period, e.g."
   ]
  },
  {
   "cell_type": "code",
   "execution_count": 16,
   "id": "7c76384a",
   "metadata": {
    "collapsed": false,
    "jupyter": {
     "outputs_hidden": false
    }
   },
   "outputs": [
    {
     "data": {
      "image/png": "[encoded data removed]",
      "text/plain": [
       "<Figure size 640x480 with 1 Axes>"
      ]
     },
     "metadata": {},
     "output_type": "display_data"
    }
   ],
   "source": [
    "P = 10 ** data['logP'][lc_index]\n",
    "phase = t % P\n",
    "plt.errorbar(phase, y, dy, fmt='o');"
   ]
  },
  {
   "cell_type": "markdown",
   "id": "5be596b7",
   "metadata": {},
   "source": [
    "## Exploring the data\n",
    "\n",
    "This exercise is very free-form, but here are some suggestions for how to proceed with exploring this data:\n",
    "\n",
    "1. **Using Principal Component Analysis:**\n",
    "\n",
    "   A. How many dimensions are needed to represent the data?\n",
    "   \n",
    "   B. Which objects are not well-approximated by this representation?\n",
    "   \n",
    "   C. Can you find any clusters in the data by-eye?\n",
    "   \n",
    "2. **Using GMM:**\n",
    "\n",
    "   A. How many clusters best-fit the data? (you can use BIC, AIC, or some other method)\n",
    "   \n",
    "   B. Does the best-fit GMM model show any outliers in the data? Are these \"real\" outliers or artifacts?\n",
    "   \n",
    "   C. Do any of these clusters dominate (i.e. small covariance, large weight, etc.)? Can you come up with a good visualization to convey information about which point belongs to which cluster?\n",
    "   \n",
    "The purpose of this exercise is not necessarily to answer these questions, but to spend time using the tools we've learned on some **real** data, so you can see just how messy the process of data mining is! (And hey, if you find something interesting, maybe you should write a quick paper about it!) Good luck!"
   ]
  },
  {
   "cell_type": "code",
   "execution_count": null,
   "id": "16690c2c-bbe8-433d-af91-3d7772f6933a",
   "metadata": {},
   "outputs": [],
   "source": []
  }
 ],
 "metadata": {
  "kernelspec": {
   "display_name": "Python 3 (ipykernel)",
   "language": "python",
   "name": "python3"
  },
  "language_info": {
   "codemirror_mode": {
    "name": "ipython",
    "version": 3
   },
   "file_extension": ".py",
   "mimetype": "text/x-python",
   "name": "python",
   "nbconvert_exporter": "python",
   "pygments_lexer": "ipython3",
   "version": "3.12.3"
  }
 },
 "nbformat": 4,
 "nbformat_minor": 5
}
